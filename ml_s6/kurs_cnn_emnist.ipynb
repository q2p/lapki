{
  "cells": [
    {
      "attachments": {},
      "cell_type": "markdown",
      "metadata": {
        "id": "OIQJ9bM4MSPL"
      },
      "source": [
        "#  Нейронные сети: Автокодировщик, Генеративно-Состязательные сети"
      ]
    },
    {
      "attachments": {},
      "cell_type": "markdown",
      "metadata": {
        "id": "s3qWY0M5LA6r"
      },
      "source": [
        "## Библиотеки"
      ]
    },
    {
      "cell_type": "code",
      "execution_count": 2,
      "metadata": {
        "id": "K2_VhyWeteMB"
      },
      "outputs": [],
      "source": [
        "from copy import deepcopy\n",
        "\n",
        "import matplotlib.pyplot as plt\n",
        "from matplotlib.image import imread\n",
        "from mpl_toolkits import mplot3d\n",
        "from matplotlib import gridspec\n",
        "from PIL import Image\n",
        "import io\n",
        "import os\n",
        "from urllib.request import urlopen\n",
        "from skimage.segmentation import mark_boundaries\n",
        "\n",
        "from tqdm.notebook import tqdm\n",
        "import numpy as np\n",
        "import requests\n",
        "from scipy.stats import norm\n",
        "import torch\n",
        "\n",
        "from sklearn.metrics import classification_report\n",
        "from torch.utils.tensorboard import SummaryWriter\n",
        "\n",
        "from torchvision import datasets, transforms\n"
      ]
    },
    {
      "cell_type": "code",
      "execution_count": 3,
      "metadata": {
        "id": "UCn8xDPhteMB"
      },
      "outputs": [],
      "source": [
        "import warnings\n",
        "warnings.filterwarnings(\"ignore\")"
      ]
    },
    {
      "cell_type": "code",
      "execution_count": 4,
      "metadata": {
        "id": "WF45BXo5MWuU"
      },
      "outputs": [
        {
          "data": {
            "text/plain": [
              "'cpu'"
            ]
          },
          "execution_count": 4,
          "metadata": {},
          "output_type": "execute_result"
        }
      ],
      "source": [
        "device = 'cuda' if torch.cuda.is_available() else 'cpu'\n",
        "device"
      ]
    },
    {
      "attachments": {},
      "cell_type": "markdown",
      "metadata": {
        "id": "GolP2cBBXfeN"
      },
      "source": [
        "# Tensorboard"
      ]
    },
    {
      "cell_type": "code",
      "execution_count": 5,
      "metadata": {
        "id": "S_Ns3K7pXiP1"
      },
      "outputs": [
        {
          "data": {
            "text/plain": [
              "Launching TensorBoard..."
            ]
          },
          "metadata": {},
          "output_type": "display_data"
        }
      ],
      "source": [
        "%load_ext tensorboard\n",
        "%tensorboard --logdir ./"
      ]
    },
    {
      "attachments": {},
      "cell_type": "markdown",
      "metadata": {
        "id": "YJCc8xi09uWI"
      },
      "source": [
        "## Код для обучени модели"
      ]
    },
    {
      "cell_type": "code",
      "execution_count": 6,
      "metadata": {
        "id": "R3BclNuZMSPT"
      },
      "outputs": [],
      "source": [
        "def train_epoch(train_generator, model, loss_function, optimizer, callback = None):\n",
        "    epoch_loss = 0\n",
        "    total = 0\n",
        "    for it, (batch_of_x, batch_of_y) in enumerate(train_generator):\n",
        "        batch_loss = train_on_batch(model, batch_of_x, batch_of_y, optimizer, loss_function)\n",
        "        \n",
        "        if callback is not None:\n",
        "            with torch.no_grad():\n",
        "                callback(model, batch_loss)\n",
        "            \n",
        "        epoch_loss += batch_loss*len(batch_of_x)\n",
        "        total += len(batch_of_x)\n",
        "    \n",
        "    return epoch_loss/total\n",
        "        "
      ]
    },
    {
      "cell_type": "code",
      "execution_count": 7,
      "metadata": {
        "id": "8VG64px1MSPT"
      },
      "outputs": [],
      "source": [
        "def trainer(count_of_epoch, \n",
        "            batch_size, \n",
        "            dataset,\n",
        "            model, \n",
        "            loss_function,\n",
        "            optimizer,\n",
        "            lr = 0.001,\n",
        "            callback = None):\n",
        "\n",
        "    optima = optimizer(model.parameters(), lr=lr)\n",
        "    \n",
        "    iterations = tqdm(range(count_of_epoch), desc='epoch')\n",
        "    iterations.set_postfix({'train epoch loss': np.nan})\n",
        "    for it in iterations:\n",
        "        batch_generator = tqdm(\n",
        "            torch.utils.data.DataLoader(dataset=dataset, batch_size=batch_size, shuffle=True), \n",
        "            leave=False, total=len(dataset)//batch_size+(len(dataset)%batch_size> 0))\n",
        "        \n",
        "        epoch_loss = train_epoch(train_generator=batch_generator, \n",
        "                    model=model, \n",
        "                    loss_function=loss_function, \n",
        "                    optimizer=optima, \n",
        "                    callback=callback)\n",
        "        \n",
        "        iterations.set_postfix({'train epoch loss': epoch_loss})"
      ]
    },
    {
      "attachments": {},
      "cell_type": "markdown",
      "metadata": {
        "id": "C83NQZtcMSPP"
      },
      "source": [
        "## Автокодировщик"
      ]
    },
    {
      "cell_type": "code",
      "execution_count": 8,
      "metadata": {
        "id": "A7NcDFLef7XZ"
      },
      "outputs": [],
      "source": [
        "digit_size = (28, 28)"
      ]
    },
    {
      "attachments": {},
      "cell_type": "markdown",
      "metadata": {
        "id": "7BMdudN9MSPT"
      },
      "source": [
        "### Код для обучения модели автокодировщика"
      ]
    },
    {
      "cell_type": "code",
      "execution_count": 9,
      "metadata": {
        "id": "XWEv5oI9MSPT"
      },
      "outputs": [],
      "source": [
        "def train_on_batch(model, x_batch, y_batch, optimizer, loss_function):\n",
        "    model.train()\n",
        "    optimizer.zero_grad()\n",
        "    \n",
        "    output = model(x_batch.to(model.device))\n",
        "    \n",
        "    loss = loss_function(output, x_batch.to(model.device))\n",
        "    loss.backward()\n",
        "\n",
        "    optimizer.step()\n",
        "    return loss.cpu().item()"
      ]
    },
    {
      "cell_type": "code",
      "execution_count": 10,
      "metadata": {
        "id": "YJTqzA44NX4A"
      },
      "outputs": [],
      "source": [
        "class callback():\n",
        "    def __init__(self, writer, dataset, loss_function, delimeter = 100, batch_size=64):\n",
        "        self.step = 0\n",
        "        self.writer = writer\n",
        "        self.delimeter = delimeter\n",
        "        self.loss_function = loss_function\n",
        "        self.batch_size = batch_size\n",
        "\n",
        "        self.dataset = dataset\n",
        "\n",
        "    def forward(self, model, loss):\n",
        "        self.step += 1\n",
        "        self.writer.add_scalar('LOSS/train', loss, self.step)\n",
        "        \n",
        "        if self.step % self.delimeter == 0:\n",
        "            \n",
        "            batch_generator = torch.utils.data.DataLoader(dataset = self.dataset, \n",
        "                                                          batch_size=self.batch_size)\n",
        "            \n",
        "            pred = []\n",
        "            real = []\n",
        "            test_loss = 0\n",
        "            model.eval()\n",
        "            for it, (x_batch, _) in enumerate(batch_generator):\n",
        "                x_batch = x_batch.to(model.device)\n",
        "\n",
        "                output = model(x_batch)\n",
        "\n",
        "                test_loss += self.loss_function(output, x_batch).cpu().item()*len(x_batch)\n",
        "\n",
        "                pred.extend(torch.argmax(output, dim=-1).cpu().numpy().tolist())\n",
        "            \n",
        "            test_loss /= len(self.dataset)\n",
        "            \n",
        "            self.writer.add_scalar('LOSS/test', test_loss, self.step)\n",
        "\n",
        "            x = x_batch[-10:]\n",
        "            \n",
        "            fig = plt.figure(figsize=(12, 12 / 10 * (x.shape[0] // 10 + 1)))\n",
        "            gs = gridspec.GridSpec(1, x.shape[0])\n",
        "            for i in range(x.shape[0]):\n",
        "                ax = fig.add_subplot(gs[i])\n",
        "                ax.imshow(model(x.to(model.device)).cpu().data[i].view(*digit_size).numpy(), cmap='Greys_r', interpolation='lanczos')\n",
        "                ax.axis('off')\n",
        "                    \n",
        "            self.writer.add_figure('VISUAL/decoded', fig, self.step)\n",
        "          \n",
        "    def __call__(self, model, loss):\n",
        "        return self.forward(model, loss)"
      ]
    },
    {
      "attachments": {},
      "cell_type": "markdown",
      "metadata": {
        "id": "_sqA2WHaMSPQ"
      },
      "source": [
        "### Линейный Автокодировщик"
      ]
    },
    {
      "attachments": {},
      "cell_type": "markdown",
      "metadata": {
        "id": "cNmrueoeVrZw"
      },
      "source": [
        "#### Данные"
      ]
    },
    {
      "cell_type": "code",
      "execution_count": 11,
      "metadata": {
        "id": "E-FbiZB-MSPQ"
      },
      "outputs": [],
      "source": [
        "preprocess = transforms.Compose([transforms.ToTensor(), \n",
        "                                 torch.FloatTensor, \n",
        "                                 lambda x: x.view(784)])"
      ]
    },
    {
      "cell_type": "code",
      "execution_count": 12,
      "metadata": {
        "id": "JOCjz2TUMSPQ"
      },
      "outputs": [],
      "source": [
        "MNIST_train = datasets.MNIST('./mnist', train=True, download=True, \n",
        "                             transform=preprocess)\n",
        "\n",
        "MNIST_test = datasets.MNIST('./mnist', train=False, download=True,\n",
        "                            transform=preprocess)"
      ]
    },
    {
      "cell_type": "code",
      "execution_count": 13,
      "metadata": {
        "id": "MuJgVfmwMSPQ"
      },
      "outputs": [],
      "source": [
        "for x_batch, y_batch in torch.utils.data.DataLoader(dataset=MNIST_train, batch_size=64, shuffle=True):\n",
        "    pass"
      ]
    },
    {
      "cell_type": "code",
      "execution_count": 14,
      "metadata": {
        "id": "SoAsJHYVMSPR"
      },
      "outputs": [
        {
          "data": {
            "image/png": "[encoded data removed]",
            "text/plain": [
              "<Figure size 1200x240 with 10 Axes>"
            ]
          },
          "metadata": {},
          "output_type": "display_data"
        }
      ],
      "source": [
        "x = x_batch[-10:]\n",
        "plt.figure(figsize=(12, 12 / 10 * (x.shape[0] // 10 + 1)))\n",
        "for i in range(x.shape[0]):\n",
        "    plt.subplot(x.shape[0] // 10 + 1, 10, i + 1)\n",
        "    plt.imshow(x.data[i].view(*digit_size).numpy(), cmap='Greys_r', interpolation='lanczos')\n",
        "    plt.axis('off')\n",
        "        \n",
        "plt.show()"
      ]
    },
    {
      "attachments": {},
      "cell_type": "markdown",
      "metadata": {
        "id": "-_FGHGKYe0DM"
      },
      "source": [
        "#### Модель"
      ]
    },
    {
      "cell_type": "code",
      "execution_count": 15,
      "metadata": {
        "id": "SXunTUISMSPS"
      },
      "outputs": [],
      "source": [
        "class Encoder(torch.nn.Module):\n",
        "    @property\n",
        "    def device(self):\n",
        "        return next(self.parameters()).device\n",
        "\n",
        "    def __init__(self, object_dim, d):\n",
        "        super(type(self), self).__init__()\n",
        "        self.object_dim = object_dim\n",
        "        self.d = d\n",
        "        \n",
        "        self.linear = torch.nn.Linear(object_dim, d)\n",
        "        \n",
        "    def forward(self, x):\n",
        "        return self.linear(x)"
      ]
    },
    {
      "cell_type": "code",
      "execution_count": 16,
      "metadata": {
        "id": "I-P40h8TMSPS"
      },
      "outputs": [],
      "source": [
        "class Decoder(torch.nn.Module):\n",
        "    @property\n",
        "    def device(self):\n",
        "        return next(self.parameters()).device\n",
        "\n",
        "    def __init__(self, d, object_dim):\n",
        "        super(type(self), self).__init__()\n",
        "        self.object_dim = object_dim\n",
        "        self.d = d\n",
        "        \n",
        "        self.linear = torch.nn.Linear(d, object_dim)\n",
        "        \n",
        "    def forward(self, x):\n",
        "        return self.linear(x)"
      ]
    },
    {
      "cell_type": "code",
      "execution_count": 17,
      "metadata": {
        "id": "kpwQG80LMSPS"
      },
      "outputs": [],
      "source": [
        "class Autoencoder(torch.nn.Module):\n",
        "    @property\n",
        "    def device(self):\n",
        "        return next(self.parameters()).device\n",
        "\n",
        "    def __init__(self, object_dim, d):\n",
        "        super(type(self), self).__init__()\n",
        "        self.object_dim = object_dim\n",
        "        self.d = d\n",
        "        \n",
        "        self.encoder = Encoder(np.prod(digit_size), d)\n",
        "        self.decoder = Decoder(d, np.prod(digit_size))\n",
        "        \n",
        "    def forward(self, x):\n",
        "        return self.decode(self.encode(x))\n",
        "    \n",
        "    def encode(self, x):\n",
        "        return self.encoder(x)\n",
        "    \n",
        "    def decode(self, z):\n",
        "        return self.decoder(z)"
      ]
    },
    {
      "attachments": {},
      "cell_type": "markdown",
      "metadata": {
        "id": "rkaIDHwAMSPU"
      },
      "source": [
        "#### Определение модели"
      ]
    },
    {
      "cell_type": "code",
      "execution_count": 18,
      "metadata": {
        "id": "nIs7TFlCMSPU"
      },
      "outputs": [],
      "source": [
        "loss_function = torch.nn.MSELoss()\n",
        "optimizer = torch.optim.Adam"
      ]
    },
    {
      "attachments": {},
      "cell_type": "markdown",
      "metadata": {
        "id": "EMVySnTbRcvI"
      },
      "source": [
        "#### Перебор разного d: обучение модели"
      ]
    },
    {
      "cell_type": "code",
      "execution_count": 19,
      "metadata": {
        "id": "E2SnLdSzRa9l"
      },
      "outputs": [
        {
          "data": {
            "application/vnd.jupyter.widget-view+json": {
              "model_id": "d51ce96a37794a84979007cf79f8c1fc",
              "version_major": 2,
              "version_minor": 0
            },
            "text/plain": [
              "epoch:   0%|          | 0/5 [00:00<?, ?it/s]"
            ]
          },
          "metadata": {},
          "output_type": "display_data"
        },
        {
          "data": {
            "application/vnd.jupyter.widget-view+json": {
              "model_id": "e8ce2539b4804e63a852aac56e28eb41",
              "version_major": 2,
              "version_minor": 0
            },
            "text/plain": [
              "  0%|          | 0/938 [00:00<?, ?it/s]"
            ]
          },
          "metadata": {},
          "output_type": "display_data"
        },
        {
          "data": {
            "application/vnd.jupyter.widget-view+json": {
              "model_id": "5e9a7105ca5c4579a3e13671b48e4826",
              "version_major": 2,
              "version_minor": 0
            },
            "text/plain": [
              "  0%|          | 0/938 [00:00<?, ?it/s]"
            ]
          },
          "metadata": {},
          "output_type": "display_data"
        },
        {
          "data": {
            "application/vnd.jupyter.widget-view+json": {
              "model_id": "5497dca0f768498ba5acd820f50e3dc8",
              "version_major": 2,
              "version_minor": 0
            },
            "text/plain": [
              "  0%|          | 0/938 [00:00<?, ?it/s]"
            ]
          },
          "metadata": {},
          "output_type": "display_data"
        },
        {
          "data": {
            "application/vnd.jupyter.widget-view+json": {
              "model_id": "5a9b65d3deef48d7b727b40969e488a2",
              "version_major": 2,
              "version_minor": 0
            },
            "text/plain": [
              "  0%|          | 0/938 [00:00<?, ?it/s]"
            ]
          },
          "metadata": {},
          "output_type": "display_data"
        },
        {
          "data": {
            "application/vnd.jupyter.widget-view+json": {
              "model_id": "d803f519cc0f4f8b9a150862d4172fca",
              "version_major": 2,
              "version_minor": 0
            },
            "text/plain": [
              "  0%|          | 0/938 [00:00<?, ?it/s]"
            ]
          },
          "metadata": {},
          "output_type": "display_data"
        },
        {
          "data": {
            "application/vnd.jupyter.widget-view+json": {
              "model_id": "13a93a3f06f14ad5ba7fd9645fc1529e",
              "version_major": 2,
              "version_minor": 0
            },
            "text/plain": [
              "epoch:   0%|          | 0/5 [00:00<?, ?it/s]"
            ]
          },
          "metadata": {},
          "output_type": "display_data"
        },
        {
          "data": {
            "application/vnd.jupyter.widget-view+json": {
              "model_id": "08e9ec8ca2ff4c85a1b692f3eb215d99",
              "version_major": 2,
              "version_minor": 0
            },
            "text/plain": [
              "  0%|          | 0/938 [00:00<?, ?it/s]"
            ]
          },
          "metadata": {},
          "output_type": "display_data"
        },
        {
          "data": {
            "application/vnd.jupyter.widget-view+json": {
              "model_id": "12f0c053686a4d518830161a94a87a6a",
              "version_major": 2,
              "version_minor": 0
            },
            "text/plain": [
              "  0%|          | 0/938 [00:00<?, ?it/s]"
            ]
          },
          "metadata": {},
          "output_type": "display_data"
        },
        {
          "data": {
            "application/vnd.jupyter.widget-view+json": {
              "model_id": "bc9c6aa1bdc24fb7808534685445581c",
              "version_major": 2,
              "version_minor": 0
            },
            "text/plain": [
              "  0%|          | 0/938 [00:00<?, ?it/s]"
            ]
          },
          "metadata": {},
          "output_type": "display_data"
        },
        {
          "data": {
            "application/vnd.jupyter.widget-view+json": {
              "model_id": "dc964128fed54a81aaabb9018cf878cb",
              "version_major": 2,
              "version_minor": 0
            },
            "text/plain": [
              "  0%|          | 0/938 [00:00<?, ?it/s]"
            ]
          },
          "metadata": {},
          "output_type": "display_data"
        },
        {
          "data": {
            "application/vnd.jupyter.widget-view+json": {
              "model_id": "18cb19cad5c240a3b88d1e5c9db4779e",
              "version_major": 2,
              "version_minor": 0
            },
            "text/plain": [
              "  0%|          | 0/938 [00:00<?, ?it/s]"
            ]
          },
          "metadata": {},
          "output_type": "display_data"
        },
        {
          "data": {
            "application/vnd.jupyter.widget-view+json": {
              "model_id": "e8784a30c05045b0b88ed5752ea5c17d",
              "version_major": 2,
              "version_minor": 0
            },
            "text/plain": [
              "epoch:   0%|          | 0/5 [00:00<?, ?it/s]"
            ]
          },
          "metadata": {},
          "output_type": "display_data"
        },
        {
          "data": {
            "application/vnd.jupyter.widget-view+json": {
              "model_id": "4b47473501634f3d980e2c82bbd01678",
              "version_major": 2,
              "version_minor": 0
            },
            "text/plain": [
              "  0%|          | 0/938 [00:00<?, ?it/s]"
            ]
          },
          "metadata": {},
          "output_type": "display_data"
        },
        {
          "data": {
            "application/vnd.jupyter.widget-view+json": {
              "model_id": "b68d907191b84673b949a6a0291f2f25",
              "version_major": 2,
              "version_minor": 0
            },
            "text/plain": [
              "  0%|          | 0/938 [00:00<?, ?it/s]"
            ]
          },
          "metadata": {},
          "output_type": "display_data"
        },
        {
          "data": {
            "application/vnd.jupyter.widget-view+json": {
              "model_id": "cbdbd85ad009409698d3c98d5dc78197",
              "version_major": 2,
              "version_minor": 0
            },
            "text/plain": [
              "  0%|          | 0/938 [00:00<?, ?it/s]"
            ]
          },
          "metadata": {},
          "output_type": "display_data"
        },
        {
          "data": {
            "application/vnd.jupyter.widget-view+json": {
              "model_id": "b9cdf8bf11e749d3a5e1202066af5b0e",
              "version_major": 2,
              "version_minor": 0
            },
            "text/plain": [
              "  0%|          | 0/938 [00:00<?, ?it/s]"
            ]
          },
          "metadata": {},
          "output_type": "display_data"
        },
        {
          "data": {
            "application/vnd.jupyter.widget-view+json": {
              "model_id": "35798fb29df1414c8a5b1a09facdfeeb",
              "version_major": 2,
              "version_minor": 0
            },
            "text/plain": [
              "  0%|          | 0/938 [00:00<?, ?it/s]"
            ]
          },
          "metadata": {},
          "output_type": "display_data"
        },
        {
          "data": {
            "application/vnd.jupyter.widget-view+json": {
              "model_id": "30965f2630d7438c9137e4432a73ab8c",
              "version_major": 2,
              "version_minor": 0
            },
            "text/plain": [
              "epoch:   0%|          | 0/5 [00:00<?, ?it/s]"
            ]
          },
          "metadata": {},
          "output_type": "display_data"
        },
        {
          "data": {
            "application/vnd.jupyter.widget-view+json": {
              "model_id": "a2a6edae73f44c1cbcb97d76efee49be",
              "version_major": 2,
              "version_minor": 0
            },
            "text/plain": [
              "  0%|          | 0/938 [00:00<?, ?it/s]"
            ]
          },
          "metadata": {},
          "output_type": "display_data"
        },
        {
          "data": {
            "application/vnd.jupyter.widget-view+json": {
              "model_id": "d06d5ceb0f2948dcaceded0f6287e3d0",
              "version_major": 2,
              "version_minor": 0
            },
            "text/plain": [
              "  0%|          | 0/938 [00:00<?, ?it/s]"
            ]
          },
          "metadata": {},
          "output_type": "display_data"
        },
        {
          "data": {
            "application/vnd.jupyter.widget-view+json": {
              "model_id": "2205f3d8839e4b119e9814fe3b8eafb4",
              "version_major": 2,
              "version_minor": 0
            },
            "text/plain": [
              "  0%|          | 0/938 [00:00<?, ?it/s]"
            ]
          },
          "metadata": {},
          "output_type": "display_data"
        },
        {
          "data": {
            "application/vnd.jupyter.widget-view+json": {
              "model_id": "6615aebd7147483bb23550cd8b23eb91",
              "version_major": 2,
              "version_minor": 0
            },
            "text/plain": [
              "  0%|          | 0/938 [00:00<?, ?it/s]"
            ]
          },
          "metadata": {},
          "output_type": "display_data"
        },
        {
          "data": {
            "application/vnd.jupyter.widget-view+json": {
              "model_id": "5273f24f0b054062b778fa5c6b464148",
              "version_major": 2,
              "version_minor": 0
            },
            "text/plain": [
              "  0%|          | 0/938 [00:00<?, ?it/s]"
            ]
          },
          "metadata": {},
          "output_type": "display_data"
        },
        {
          "data": {
            "application/vnd.jupyter.widget-view+json": {
              "model_id": "0e32ba01bc0340dc914e55d926efb515",
              "version_major": 2,
              "version_minor": 0
            },
            "text/plain": [
              "epoch:   0%|          | 0/5 [00:00<?, ?it/s]"
            ]
          },
          "metadata": {},
          "output_type": "display_data"
        },
        {
          "data": {
            "application/vnd.jupyter.widget-view+json": {
              "model_id": "42778d92bace4d75a51b77773c9818ca",
              "version_major": 2,
              "version_minor": 0
            },
            "text/plain": [
              "  0%|          | 0/938 [00:00<?, ?it/s]"
            ]
          },
          "metadata": {},
          "output_type": "display_data"
        },
        {
          "data": {
            "application/vnd.jupyter.widget-view+json": {
              "model_id": "7c8924afba464c068a60a78894c25363",
              "version_major": 2,
              "version_minor": 0
            },
            "text/plain": [
              "  0%|          | 0/938 [00:00<?, ?it/s]"
            ]
          },
          "metadata": {},
          "output_type": "display_data"
        },
        {
          "data": {
            "application/vnd.jupyter.widget-view+json": {
              "model_id": "c579704f77b54e38b9a39e5d550b6df8",
              "version_major": 2,
              "version_minor": 0
            },
            "text/plain": [
              "  0%|          | 0/938 [00:00<?, ?it/s]"
            ]
          },
          "metadata": {},
          "output_type": "display_data"
        },
        {
          "data": {
            "application/vnd.jupyter.widget-view+json": {
              "model_id": "60a05b87282a47cba9aca225854fb61c",
              "version_major": 2,
              "version_minor": 0
            },
            "text/plain": [
              "  0%|          | 0/938 [00:00<?, ?it/s]"
            ]
          },
          "metadata": {},
          "output_type": "display_data"
        },
        {
          "data": {
            "application/vnd.jupyter.widget-view+json": {
              "model_id": "d63a6297c9234d91a35c8d6ccb300937",
              "version_major": 2,
              "version_minor": 0
            },
            "text/plain": [
              "  0%|          | 0/938 [00:00<?, ?it/s]"
            ]
          },
          "metadata": {},
          "output_type": "display_data"
        },
        {
          "data": {
            "application/vnd.jupyter.widget-view+json": {
              "model_id": "0cfbc0af132646cdbb4901260c92f755",
              "version_major": 2,
              "version_minor": 0
            },
            "text/plain": [
              "epoch:   0%|          | 0/5 [00:00<?, ?it/s]"
            ]
          },
          "metadata": {},
          "output_type": "display_data"
        },
        {
          "data": {
            "application/vnd.jupyter.widget-view+json": {
              "model_id": "c6a4169836f048b7ba8322a00c5cfde8",
              "version_major": 2,
              "version_minor": 0
            },
            "text/plain": [
              "  0%|          | 0/938 [00:00<?, ?it/s]"
            ]
          },
          "metadata": {},
          "output_type": "display_data"
        },
        {
          "data": {
            "application/vnd.jupyter.widget-view+json": {
              "model_id": "e4ca219228c548b1ab9219f81dd86243",
              "version_major": 2,
              "version_minor": 0
            },
            "text/plain": [
              "  0%|          | 0/938 [00:00<?, ?it/s]"
            ]
          },
          "metadata": {},
          "output_type": "display_data"
        },
        {
          "data": {
            "application/vnd.jupyter.widget-view+json": {
              "model_id": "2b208802f0154e729863b78312d927db",
              "version_major": 2,
              "version_minor": 0
            },
            "text/plain": [
              "  0%|          | 0/938 [00:00<?, ?it/s]"
            ]
          },
          "metadata": {},
          "output_type": "display_data"
        },
        {
          "data": {
            "application/vnd.jupyter.widget-view+json": {
              "model_id": "b707a1b0b5544261afc8fd03fa62df6c",
              "version_major": 2,
              "version_minor": 0
            },
            "text/plain": [
              "  0%|          | 0/938 [00:00<?, ?it/s]"
            ]
          },
          "metadata": {},
          "output_type": "display_data"
        },
        {
          "data": {
            "application/vnd.jupyter.widget-view+json": {
              "model_id": "45baa40e601d45b28f5b3c4a777819a1",
              "version_major": 2,
              "version_minor": 0
            },
            "text/plain": [
              "  0%|          | 0/938 [00:00<?, ?it/s]"
            ]
          },
          "metadata": {},
          "output_type": "display_data"
        }
      ],
      "source": [
        "for d in [2, 4, 8, 16, 32, 64]:\n",
        "    autoencoder = Autoencoder(np.prod(digit_size), d)\n",
        "    autoencoder.to(device)\n",
        "\n",
        "    writer = SummaryWriter(log_dir = 'autoencoder-linear/{}'.format(d))\n",
        "\n",
        "    call = callback(writer, MNIST_test, loss_function, delimeter = 100)\n",
        "\n",
        "    trainer(count_of_epoch=5, \n",
        "            batch_size=64, \n",
        "            dataset=MNIST_train,\n",
        "            model=autoencoder, \n",
        "            loss_function=loss_function,\n",
        "            optimizer = optimizer,\n",
        "            lr = 0.001,\n",
        "            callback = call)"
      ]
    },
    {
      "attachments": {},
      "cell_type": "markdown",
      "metadata": {
        "id": "k2yKXsqNMSPW"
      },
      "source": [
        "### Нейросетевой автокодировщик "
      ]
    },
    {
      "attachments": {},
      "cell_type": "markdown",
      "metadata": {
        "id": "t05EFVAafbvi"
      },
      "source": [
        "#### Данные"
      ]
    },
    {
      "cell_type": "code",
      "execution_count": 20,
      "metadata": {
        "id": "xEBAXqo5Yzxn"
      },
      "outputs": [],
      "source": [
        "preprocess = transforms.Compose([transforms.ToTensor(), \n",
        "                                 torch.FloatTensor])"
      ]
    },
    {
      "cell_type": "code",
      "execution_count": 21,
      "metadata": {
        "id": "s1xXXsVKYzxo"
      },
      "outputs": [],
      "source": [
        "MNIST_train = datasets.MNIST('./mnist', train=True, download=True, \n",
        "                             transform=preprocess)\n",
        "\n",
        "MNIST_test = datasets.MNIST('./mnist', train=False, download=True,\n",
        "                            transform=preprocess)"
      ]
    },
    {
      "attachments": {},
      "cell_type": "markdown",
      "metadata": {
        "id": "kbW2bUIwfezO"
      },
      "source": [
        "#### Модель"
      ]
    },
    {
      "cell_type": "code",
      "execution_count": 22,
      "metadata": {
        "id": "9-NoOA7MVxDg"
      },
      "outputs": [],
      "source": [
        "class EncoderCNN(torch.nn.Module):\n",
        "    @property\n",
        "    def device(self):\n",
        "        return next(self.parameters()).device\n",
        "\n",
        "    def __init__(self, d):\n",
        "        super(type(self), self).__init__()\n",
        "        self.d = d\n",
        "\n",
        "        self.layers = torch.nn.Sequential()\n",
        "        self.layers.add_module('conv1', torch.nn.Conv2d(1, 6, kernel_size = 5))\n",
        "        self.layers.add_module('bnorm1', torch.nn.BatchNorm2d(6))\n",
        "        self.layers.add_module('relu1', torch.nn.ReLU())\n",
        "        self.layers.add_module('pool1', torch.nn.MaxPool2d(kernel_size = 2))\n",
        "        \n",
        "        self.layers.add_module('conv2', torch.nn.Conv2d(6, 16, kernel_size = 5))\n",
        "        self.layers.add_module('bnorm2', torch.nn.BatchNorm2d(16))\n",
        "        self.layers.add_module('relu2', torch.nn.ReLU())\n",
        "        self.layers.add_module('pool2', torch.nn.MaxPool2d(kernel_size = 2))\n",
        "        \n",
        "        self.layers.add_module('conv3', torch.nn.Conv2d(16, self.d, kernel_size = 3))\n",
        "        self.layers.add_module('relu3', torch.nn.ReLU())\n",
        "        self.layers.add_module('pool3', torch.nn.MaxPool2d(kernel_size = 2))\n",
        "\n",
        "        self.layers.add_module('flatten', torch.nn.Flatten())\n",
        "\n",
        "    def forward(self, input):\n",
        "        return self.layers(input)"
      ]
    },
    {
      "cell_type": "code",
      "execution_count": 23,
      "metadata": {
        "id": "YxkWhXiGadOh"
      },
      "outputs": [],
      "source": [
        "class Reshape(torch.nn.Module):\n",
        "    @property\n",
        "    def device(self):\n",
        "        return next(self.parameters()).device\n",
        "\n",
        "    def __init__(self, *args):\n",
        "        super(type(self), self).__init__()\n",
        "        self.dims = args\n",
        "\n",
        "    def forward(self, input):\n",
        "        return input.view(input.size(0), *self.dims)"
      ]
    },
    {
      "cell_type": "code",
      "execution_count": 24,
      "metadata": {
        "id": "YgGfbx9SXyxw"
      },
      "outputs": [],
      "source": [
        "class DecoderCNN(torch.nn.Module):\n",
        "    @property\n",
        "    def device(self):\n",
        "        return next(self.parameters()).device\n",
        "\n",
        "    def __init__(self, d):\n",
        "        super(type(self), self).__init__()\n",
        "        self.d = d\n",
        "\n",
        "        self.layers = torch.nn.Sequential()\n",
        "        self.layers.add_module('reshape1', Reshape(self.d, 1, 1))\n",
        "        \n",
        "        self.layers.add_module('conv1', torch.nn.ConvTranspose2d(self.d, 128, 4, 1, 0, 0, bias=False))\n",
        "        self.layers.add_module('bnorm1', torch.nn.BatchNorm2d(128))\n",
        "        self.layers.add_module('relu1', torch.nn.ReLU())\n",
        "        \n",
        "        self.layers.add_module('conv2', torch.nn.ConvTranspose2d(128, 64, 3, 2, 1, 0, bias=False))\n",
        "        self.layers.add_module('bnorm2', torch.nn.BatchNorm2d(64))\n",
        "        self.layers.add_module('relu2', torch.nn.ReLU())\n",
        "        \n",
        "        self.layers.add_module('conv3', torch.nn.ConvTranspose2d(64, 32, 3, 2, 1, 1, bias=False))\n",
        "        self.layers.add_module('bnorm3', torch.nn.BatchNorm2d(32))\n",
        "        self.layers.add_module('relu3', torch.nn.ReLU())\n",
        "\n",
        "        self.layers.add_module('conv4', torch.nn.ConvTranspose2d(32, 1, 4, 2, 1, 0, bias=False))\n",
        "        self.layers.add_module('relu4', torch.nn.ReLU())\n",
        "        \n",
        "        self.layers.add_module('sigmoid', torch.nn.Sigmoid())\n",
        "        \n",
        "    def forward(self, x):\n",
        "        return self.layers(x)"
      ]
    },
    {
      "cell_type": "code",
      "execution_count": 25,
      "metadata": {
        "id": "mMvQhigRbwCa"
      },
      "outputs": [],
      "source": [
        "class AutoencoderCNN(torch.nn.Module):\n",
        "    @property\n",
        "    def device(self):\n",
        "        return next(self.parameters()).device\n",
        "\n",
        "    def __init__(self, d):\n",
        "        super(type(self), self).__init__()\n",
        "        self.d = d\n",
        "        \n",
        "        self.encoder = EncoderCNN(d)\n",
        "        self.decoder = DecoderCNN(d)\n",
        "        \n",
        "    def forward(self, x):\n",
        "        return self.decode(self.encode(x))\n",
        "    \n",
        "    def encode(self, x):\n",
        "        return self.encoder(x)\n",
        "    \n",
        "    def decode(self, z):\n",
        "        return self.decoder(z)"
      ]
    },
    {
      "attachments": {},
      "cell_type": "markdown",
      "metadata": {
        "id": "L6GydQ8xcI5S"
      },
      "source": [
        "#### Определение модели"
      ]
    },
    {
      "cell_type": "code",
      "execution_count": 26,
      "metadata": {
        "id": "VAXkjComcI5V"
      },
      "outputs": [],
      "source": [
        "loss_function = torch.nn.MSELoss()\n",
        "optimizer = torch.optim.Adam"
      ]
    },
    {
      "attachments": {},
      "cell_type": "markdown",
      "metadata": {
        "id": "gx6KwOxWcI5W"
      },
      "source": [
        "#### Перебор разного d: обучение модели"
      ]
    },
    {
      "cell_type": "code",
      "execution_count": 27,
      "metadata": {
        "id": "1nxhq5Tcbn7p"
      },
      "outputs": [
        {
          "data": {
            "application/vnd.jupyter.widget-view+json": {
              "model_id": "6753ed25a446437bb6ad00a487c901c0",
              "version_major": 2,
              "version_minor": 0
            },
            "text/plain": [
              "epoch:   0%|          | 0/5 [00:00<?, ?it/s]"
            ]
          },
          "metadata": {},
          "output_type": "display_data"
        },
        {
          "data": {
            "application/vnd.jupyter.widget-view+json": {
              "model_id": "cbb1788603bb4290a56eab5aa3647d5f",
              "version_major": 2,
              "version_minor": 0
            },
            "text/plain": [
              "  0%|          | 0/938 [00:00<?, ?it/s]"
            ]
          },
          "metadata": {},
          "output_type": "display_data"
        },
        {
          "data": {
            "application/vnd.jupyter.widget-view+json": {
              "model_id": "d66801fd6b1a483796942f5196b8cdf6",
              "version_major": 2,
              "version_minor": 0
            },
            "text/plain": [
              "  0%|          | 0/938 [00:00<?, ?it/s]"
            ]
          },
          "metadata": {},
          "output_type": "display_data"
        },
        {
          "data": {
            "application/vnd.jupyter.widget-view+json": {
              "model_id": "1a7e6699e8354235987519556fc59e01",
              "version_major": 2,
              "version_minor": 0
            },
            "text/plain": [
              "  0%|          | 0/938 [00:00<?, ?it/s]"
            ]
          },
          "metadata": {},
          "output_type": "display_data"
        },
        {
          "data": {
            "application/vnd.jupyter.widget-view+json": {
              "model_id": "1c47cf1bf77c4b58b8be52a2069bb698",
              "version_major": 2,
              "version_minor": 0
            },
            "text/plain": [
              "  0%|          | 0/938 [00:00<?, ?it/s]"
            ]
          },
          "metadata": {},
          "output_type": "display_data"
        },
        {
          "data": {
            "application/vnd.jupyter.widget-view+json": {
              "model_id": "74603d7d6ff2406787f15ffca3db49ca",
              "version_major": 2,
              "version_minor": 0
            },
            "text/plain": [
              "  0%|          | 0/938 [00:00<?, ?it/s]"
            ]
          },
          "metadata": {},
          "output_type": "display_data"
        },
        {
          "data": {
            "application/vnd.jupyter.widget-view+json": {
              "model_id": "e2ae254527614764a05e927978b5b18d",
              "version_major": 2,
              "version_minor": 0
            },
            "text/plain": [
              "epoch:   0%|          | 0/5 [00:00<?, ?it/s]"
            ]
          },
          "metadata": {},
          "output_type": "display_data"
        },
        {
          "data": {
            "application/vnd.jupyter.widget-view+json": {
              "model_id": "e88876da7e794223aa5ddfd046d49281",
              "version_major": 2,
              "version_minor": 0
            },
            "text/plain": [
              "  0%|          | 0/938 [00:00<?, ?it/s]"
            ]
          },
          "metadata": {},
          "output_type": "display_data"
        },
        {
          "data": {
            "application/vnd.jupyter.widget-view+json": {
              "model_id": "a450ef3ff5a14bd68437c540f7d85371",
              "version_major": 2,
              "version_minor": 0
            },
            "text/plain": [
              "  0%|          | 0/938 [00:00<?, ?it/s]"
            ]
          },
          "metadata": {},
          "output_type": "display_data"
        },
        {
          "data": {
            "application/vnd.jupyter.widget-view+json": {
              "model_id": "b83f242af8eb414ab6cc60460837d35d",
              "version_major": 2,
              "version_minor": 0
            },
            "text/plain": [
              "  0%|          | 0/938 [00:00<?, ?it/s]"
            ]
          },
          "metadata": {},
          "output_type": "display_data"
        },
        {
          "data": {
            "application/vnd.jupyter.widget-view+json": {
              "model_id": "7e84335f2e1b4eef93dcbbe57b8cebce",
              "version_major": 2,
              "version_minor": 0
            },
            "text/plain": [
              "  0%|          | 0/938 [00:00<?, ?it/s]"
            ]
          },
          "metadata": {},
          "output_type": "display_data"
        },
        {
          "data": {
            "application/vnd.jupyter.widget-view+json": {
              "model_id": "7582fb5f95934ce3bbf3c14187da2ed8",
              "version_major": 2,
              "version_minor": 0
            },
            "text/plain": [
              "  0%|          | 0/938 [00:00<?, ?it/s]"
            ]
          },
          "metadata": {},
          "output_type": "display_data"
        },
        {
          "data": {
            "application/vnd.jupyter.widget-view+json": {
              "model_id": "9b31d540f5b84143bf420d0583207d95",
              "version_major": 2,
              "version_minor": 0
            },
            "text/plain": [
              "epoch:   0%|          | 0/5 [00:00<?, ?it/s]"
            ]
          },
          "metadata": {},
          "output_type": "display_data"
        },
        {
          "data": {
            "application/vnd.jupyter.widget-view+json": {
              "model_id": "355c329a86724b0a9382d06ca16bfe19",
              "version_major": 2,
              "version_minor": 0
            },
            "text/plain": [
              "  0%|          | 0/938 [00:00<?, ?it/s]"
            ]
          },
          "metadata": {},
          "output_type": "display_data"
        },
        {
          "data": {
            "application/vnd.jupyter.widget-view+json": {
              "model_id": "8c102f368d464c17bc53a4a22c9f8a19",
              "version_major": 2,
              "version_minor": 0
            },
            "text/plain": [
              "  0%|          | 0/938 [00:00<?, ?it/s]"
            ]
          },
          "metadata": {},
          "output_type": "display_data"
        },
        {
          "data": {
            "application/vnd.jupyter.widget-view+json": {
              "model_id": "2fd1bea794e84954b03e71990262e418",
              "version_major": 2,
              "version_minor": 0
            },
            "text/plain": [
              "  0%|          | 0/938 [00:00<?, ?it/s]"
            ]
          },
          "metadata": {},
          "output_type": "display_data"
        },
        {
          "data": {
            "application/vnd.jupyter.widget-view+json": {
              "model_id": "f3066871d5cb48dfa8333900fc1873c6",
              "version_major": 2,
              "version_minor": 0
            },
            "text/plain": [
              "  0%|          | 0/938 [00:00<?, ?it/s]"
            ]
          },
          "metadata": {},
          "output_type": "display_data"
        },
        {
          "data": {
            "application/vnd.jupyter.widget-view+json": {
              "model_id": "c013b01d9b4a4e9488114e328faea4d0",
              "version_major": 2,
              "version_minor": 0
            },
            "text/plain": [
              "  0%|          | 0/938 [00:00<?, ?it/s]"
            ]
          },
          "metadata": {},
          "output_type": "display_data"
        },
        {
          "data": {
            "application/vnd.jupyter.widget-view+json": {
              "model_id": "f352fc91f75c498fbb8f052c03530ba0",
              "version_major": 2,
              "version_minor": 0
            },
            "text/plain": [
              "epoch:   0%|          | 0/5 [00:00<?, ?it/s]"
            ]
          },
          "metadata": {},
          "output_type": "display_data"
        },
        {
          "data": {
            "application/vnd.jupyter.widget-view+json": {
              "model_id": "f4dc4bf80515455c8327120e2c6a8d20",
              "version_major": 2,
              "version_minor": 0
            },
            "text/plain": [
              "  0%|          | 0/938 [00:00<?, ?it/s]"
            ]
          },
          "metadata": {},
          "output_type": "display_data"
        },
        {
          "data": {
            "application/vnd.jupyter.widget-view+json": {
              "model_id": "2ef8f3a609c048a89c97003ab3e49e64",
              "version_major": 2,
              "version_minor": 0
            },
            "text/plain": [
              "  0%|          | 0/938 [00:00<?, ?it/s]"
            ]
          },
          "metadata": {},
          "output_type": "display_data"
        },
        {
          "data": {
            "application/vnd.jupyter.widget-view+json": {
              "model_id": "cca02879419842eeaa7e18ea33102347",
              "version_major": 2,
              "version_minor": 0
            },
            "text/plain": [
              "  0%|          | 0/938 [00:00<?, ?it/s]"
            ]
          },
          "metadata": {},
          "output_type": "display_data"
        },
        {
          "data": {
            "application/vnd.jupyter.widget-view+json": {
              "model_id": "c15fb7ab84564b128976ed27a276ea03",
              "version_major": 2,
              "version_minor": 0
            },
            "text/plain": [
              "  0%|          | 0/938 [00:00<?, ?it/s]"
            ]
          },
          "metadata": {},
          "output_type": "display_data"
        },
        {
          "data": {
            "application/vnd.jupyter.widget-view+json": {
              "model_id": "7e0efdc2692e4e1a8125a384550159aa",
              "version_major": 2,
              "version_minor": 0
            },
            "text/plain": [
              "  0%|          | 0/938 [00:00<?, ?it/s]"
            ]
          },
          "metadata": {},
          "output_type": "display_data"
        },
        {
          "data": {
            "application/vnd.jupyter.widget-view+json": {
              "model_id": "609b1885bd114777bdc8e01bcc7a8736",
              "version_major": 2,
              "version_minor": 0
            },
            "text/plain": [
              "epoch:   0%|          | 0/5 [00:00<?, ?it/s]"
            ]
          },
          "metadata": {},
          "output_type": "display_data"
        },
        {
          "data": {
            "application/vnd.jupyter.widget-view+json": {
              "model_id": "bf7496e44b1e4b63b1fbe523a9bf2baa",
              "version_major": 2,
              "version_minor": 0
            },
            "text/plain": [
              "  0%|          | 0/938 [00:00<?, ?it/s]"
            ]
          },
          "metadata": {},
          "output_type": "display_data"
        },
        {
          "data": {
            "application/vnd.jupyter.widget-view+json": {
              "model_id": "ecec07d6f565434b847d00d2ba2d5a1e",
              "version_major": 2,
              "version_minor": 0
            },
            "text/plain": [
              "  0%|          | 0/938 [00:00<?, ?it/s]"
            ]
          },
          "metadata": {},
          "output_type": "display_data"
        },
        {
          "data": {
            "application/vnd.jupyter.widget-view+json": {
              "model_id": "dd81b4ab244f4f9d93a1eac26dacccb7",
              "version_major": 2,
              "version_minor": 0
            },
            "text/plain": [
              "  0%|          | 0/938 [00:00<?, ?it/s]"
            ]
          },
          "metadata": {},
          "output_type": "display_data"
        },
        {
          "data": {
            "application/vnd.jupyter.widget-view+json": {
              "model_id": "638cd77103154008b476c59b4907b397",
              "version_major": 2,
              "version_minor": 0
            },
            "text/plain": [
              "  0%|          | 0/938 [00:00<?, ?it/s]"
            ]
          },
          "metadata": {},
          "output_type": "display_data"
        },
        {
          "data": {
            "application/vnd.jupyter.widget-view+json": {
              "model_id": "97a4b139d32e4d16abfb6d66b48bb74e",
              "version_major": 2,
              "version_minor": 0
            },
            "text/plain": [
              "  0%|          | 0/938 [00:00<?, ?it/s]"
            ]
          },
          "metadata": {},
          "output_type": "display_data"
        },
        {
          "data": {
            "application/vnd.jupyter.widget-view+json": {
              "model_id": "89566be4b45640e3bc97086feeff6a69",
              "version_major": 2,
              "version_minor": 0
            },
            "text/plain": [
              "epoch:   0%|          | 0/5 [00:00<?, ?it/s]"
            ]
          },
          "metadata": {},
          "output_type": "display_data"
        },
        {
          "data": {
            "application/vnd.jupyter.widget-view+json": {
              "model_id": "900fb241b92641509a7ea651d2e6fbcc",
              "version_major": 2,
              "version_minor": 0
            },
            "text/plain": [
              "  0%|          | 0/938 [00:00<?, ?it/s]"
            ]
          },
          "metadata": {},
          "output_type": "display_data"
        },
        {
          "data": {
            "application/vnd.jupyter.widget-view+json": {
              "model_id": "bfc40c6816574a89a71ca248e238dc4f",
              "version_major": 2,
              "version_minor": 0
            },
            "text/plain": [
              "  0%|          | 0/938 [00:00<?, ?it/s]"
            ]
          },
          "metadata": {},
          "output_type": "display_data"
        },
        {
          "data": {
            "application/vnd.jupyter.widget-view+json": {
              "model_id": "b6f360cf01f245c1b662f2963d5946e7",
              "version_major": 2,
              "version_minor": 0
            },
            "text/plain": [
              "  0%|          | 0/938 [00:00<?, ?it/s]"
            ]
          },
          "metadata": {},
          "output_type": "display_data"
        },
        {
          "data": {
            "application/vnd.jupyter.widget-view+json": {
              "model_id": "a7fb7f6d8da744a7b2f279b192b315fe",
              "version_major": 2,
              "version_minor": 0
            },
            "text/plain": [
              "  0%|          | 0/938 [00:00<?, ?it/s]"
            ]
          },
          "metadata": {},
          "output_type": "display_data"
        },
        {
          "data": {
            "application/vnd.jupyter.widget-view+json": {
              "model_id": "47e3b4013349428c89cfc051528dc088",
              "version_major": 2,
              "version_minor": 0
            },
            "text/plain": [
              "  0%|          | 0/938 [00:00<?, ?it/s]"
            ]
          },
          "metadata": {},
          "output_type": "display_data"
        }
      ],
      "source": [
        "for d in [2, 4, 8, 16, 32, 64]:\n",
        "    autoencoder = AutoencoderCNN(d)\n",
        "    autoencoder.to(device)\n",
        "\n",
        "    writer = SummaryWriter(log_dir = 'autoencoder-cnn/{}'.format(d))\n",
        "    call = callback(writer, MNIST_test, loss_function, delimeter = 100)\n",
        "\n",
        "    trainer(count_of_epoch=5, \n",
        "            batch_size=64, \n",
        "            dataset=MNIST_train,\n",
        "            model=autoencoder, \n",
        "            loss_function=loss_function,\n",
        "            optimizer = optimizer,\n",
        "            lr = 0.001,\n",
        "            callback = call)"
      ]
    },
    {
      "attachments": {},
      "cell_type": "markdown",
      "metadata": {
        "id": "wM3gKcgGMSPW"
      },
      "source": [
        "### Вариационный автокодировщик"
      ]
    },
    {
      "attachments": {},
      "cell_type": "markdown",
      "metadata": {
        "id": "kPnQm_lEluQU"
      },
      "source": [
        "#### Модель"
      ]
    },
    {
      "cell_type": "code",
      "execution_count": 28,
      "metadata": {
        "id": "0DSQY6qfke2U"
      },
      "outputs": [],
      "source": [
        "class VAE(torch.nn.Module):\n",
        "    @property\n",
        "    def device(self):\n",
        "        return next(self.parameters()).device\n",
        "\n",
        "    def __init__(self, latent_dim, input_dim, hidden_dim=200):\n",
        "        \"\"\"\n",
        "        Standart model of VAE with ELBO optimization.\n",
        "        Args:\n",
        "            latent_dim: int - the dimension of latent space.\n",
        "            input_dim: int - the dimension of input space.\n",
        "            hidden_dim: int - the size of hidden_dim neural layer.\n",
        "        Returns:\n",
        "            None\n",
        "        Example:\n",
        "            >>> model = VAE(2, 10)\n",
        "        \"\"\"\n",
        "        super(VAE, self).__init__()\n",
        "        self.latent_dim = latent_dim\n",
        "        self.input_dim = input_dim\n",
        "        self.hidden_dim = hidden_dim\n",
        "\n",
        "        self.proposal_z = torch.nn.Sequential(\n",
        "            torch.nn.Linear(self.input_dim, hidden_dim),\n",
        "            torch.nn.LeakyReLU(),\n",
        "        )\n",
        "        self.proposal_mu = torch.nn.Linear(hidden_dim, self.latent_dim)\n",
        "        self.proposal_sigma = torch.nn.Linear(hidden_dim, self.latent_dim)\n",
        "\n",
        "        self.generative_network = torch.nn.Sequential(\n",
        "            torch.nn.Linear(self.latent_dim, hidden_dim),\n",
        "            torch.nn.LeakyReLU(),\n",
        "            torch.nn.Linear(hidden_dim, self.input_dim),\n",
        "            torch.nn.Sigmoid()\n",
        "        )\n",
        "\n",
        "    def q_z(self, x):\n",
        "        \"\"\"\n",
        "        Generates distribution of z provided x.\n",
        "        Args:\n",
        "            x: Tensor - the matrix of shape batch_size x input_dim.\n",
        "        Returns:\n",
        "            tuple(Tensor, Tensor) - the normal distribution parameters.\n",
        "            mu: Tensor - the matrix of shape batch_size x latent_dim.\n",
        "            sigma: Tensor - the matrix of shape batch_size x latent_dim.\n",
        "        Example:\n",
        "            >>>\n",
        "        \"\"\"\n",
        "        x = x.to(self.device)\n",
        "\n",
        "        proposal = self.proposal_z(x)\n",
        "        mu = self.proposal_mu(proposal)\n",
        "        sigma = torch.nn.Softplus()(self.proposal_sigma(proposal))\n",
        "        return mu, sigma\n",
        "\n",
        "    def p_z(self, num_samples):\n",
        "        \"\"\"\n",
        "        Generetes prior distribution of z.\n",
        "        Args:\n",
        "            num_samples: int - the number of samples.\n",
        "        Returns:\n",
        "            tuple(Tensor, Tensor) - the normal distribution parameters.\n",
        "                mu: Tensor - the matrix of shape num_samples x latent_dim.\n",
        "            \tsigma: Tensor - the matrix of shape num_samples x latent_dim.\n",
        "        Example:\n",
        "            >>>\n",
        "        \"\"\"\n",
        "        mu = torch.zeros([num_samples, self.latent_dim], device=self.device)\n",
        "        sigma = torch.ones([num_samples, self.latent_dim], device=self.device)\n",
        "        return mu, sigma\n",
        "\n",
        "    def sample_z(self, distr, num_samples=1):\n",
        "        \"\"\"\n",
        "        Generates samples from normal distribution q(z|x).\n",
        "        Args:\n",
        "            distr = (mu, sigma): tuple(Tensor, Tensor) - the normal distribution parameters.\n",
        "                mu: Tensor - the matrix of shape batch_size x latent_dim.\n",
        "                sigma: Tensor - the matrix of shape batch_size x latent_dim.\n",
        "            num_samples: int - the number of samples for each element.\n",
        "        Returns:\n",
        "            Tensor - the tensor of shape batch_size x num_samples x latent_dim - samples from normal distribution in latent space.\n",
        "        Example:\n",
        "            >>>\n",
        "        \"\"\"\n",
        "        mu, sigma = distr\n",
        "        mu = mu.to(self.device)\n",
        "        sigma = sigma.to(self.device)\n",
        "\n",
        "        batch_size = mu.shape[0]\n",
        "\n",
        "        bias = mu.view([batch_size, 1, self.latent_dim])\n",
        "\n",
        "        epsilon = torch.randn([batch_size, num_samples, self.latent_dim],\n",
        "                              requires_grad=True,\n",
        "                              device=self.device)\n",
        "        scale = sigma.view([batch_size, 1, self.latent_dim])\n",
        "\n",
        "        return bias + epsilon * scale\n",
        "\n",
        "    def q_x(self, z):\n",
        "        \"\"\"\n",
        "        Given the latent representation matrix z, returns the matrix of Bernoulli distribution parameters for sampling x objects.\n",
        "        Args:\n",
        "            z: Tensor - the tensor of shape batch_size x num_samples x latent_dim, samples from latent space.\n",
        "        Returns:\n",
        "            Tensor - the tensor of shape batch_size x num_samples x input_dim, Bernoulli distribution parameters.\n",
        "        Example:\n",
        "            >>>\n",
        "        \"\"\"\n",
        "        z = z.to(self.device)\n",
        "        out = self.generative_network(z)\n",
        "\n",
        "        return torch.clamp(out, 0.01, 0.99)\n",
        "\n",
        "    def loss(self, batch_x, batch_y):\n",
        "        \"\"\"\n",
        "        Calculate ELBO approximation of log likelihood for given batch with negative sign.\n",
        "        Args:\n",
        "            batch_x: FloatTensor - the matrix of shape batch_size x input_dim.\n",
        "            batch_y: FloatTensor - dont uses parameter in this model.\n",
        "        Returns:\n",
        "            Tensor - scalar, ELBO approximation of log likelihood for given batch with negative sign.\n",
        "        Example:\n",
        "            >>>\n",
        "        \"\"\"\n",
        "        batch_x = batch_x.to(self.device)\n",
        "        batch_y = batch_y.to(self.device)\n",
        "\n",
        "        batch_size = batch_x.shape[0]\n",
        "\n",
        "        propos_distr = self.q_z(batch_x)\n",
        "        pri_distr = self.p_z(batch_size)\n",
        "\n",
        "        x_distr = self.q_x(self.sample_z(propos_distr))\n",
        "\n",
        "        expectation = torch.mean(\n",
        "            self.log_mean_exp(\n",
        "                self.log_likelihood(\n",
        "                    batch_x, x_distr)), dim=0)\n",
        "\n",
        "        divergence = self.divergence_KL_normal(propos_distr, pri_distr)\n",
        "\n",
        "        return -1 * torch.mean(expectation - divergence, dim=0)\n",
        "\n",
        "    def generate_samples(self, num_samples):\n",
        "        \"\"\"\n",
        "        Generate samples of object x from noises in latent space.\n",
        "        Args:\n",
        "            num_samples: int - the number of samples, witch need to generate.\n",
        "        Returns:\n",
        "            Tensor - the matrix of shape num_samples x input_dim.\n",
        "        Example:\n",
        "            >>>\n",
        "        \"\"\"\n",
        "        distr_z = self.p_z(num_samples=1)\n",
        "\n",
        "        z = self.sample_z(distr, num_samples=num_samples)\n",
        "\n",
        "        distr_x = self.q_x(z).view([num_samples, -1])\n",
        "\n",
        "        return torch.bernoulli(distr_x, device=self.device)\n",
        "\n",
        "    @staticmethod\n",
        "    def log_pdf_normal(distr, samples):\n",
        "        \"\"\"\n",
        "        The function calculates the logarithm of the probability density at a point relative to the corresponding normal distribution given componentwise by its mean and standard deviation.\n",
        "        Args:\n",
        "            distr = (mu, sigma): tuple(Tensor, Tensor) - the normal distribution parameters.\n",
        "                mu: Tensor - the matrix of shape batch_size x latent_dim.\n",
        "                sigma: Tensor - the matrix of shape batch_size x latent_dim.\n",
        "            samples: Tensor - the tensor of shape batch_size x num_samples x latent_dim, samples in latent space.\n",
        "        Returns:\n",
        "            Tensor - the matrix of shape batch_size x num_samples, each element of which is the logarithm of the probability density of a point relative to the corresponding distribution.\n",
        "        Example:\n",
        "            >>>\n",
        "        \"\"\"\n",
        "        mu, sigma = distr\n",
        "\n",
        "        batch_size = mu.shape[0]\n",
        "        latent_dim = mu.shape[1]\n",
        "\n",
        "        f1 = torch.sum(((samples -\n",
        "                         mu.view([batch_size, 1, latent_dim]))**2) /\n",
        "                       sigma.view([batch_size, 1, latent_dim])**2, dim=2)\n",
        "        f2 = mu.shape[1] * (math.log(2) + math.log(math.pi))\n",
        "        f3 = torch.sum(torch.log(sigma), dim=1).view(batch_size, 1)\n",
        "        return -0.5 * (f1 + f2) - f3\n",
        "\n",
        "    @staticmethod\n",
        "    def log_likelihood(x_true, x_distr):\n",
        "        \"\"\"\n",
        "        Calculate log likelihood between x_true and x_distr.\n",
        "        Args:\n",
        "            x_true:  Tensor - the matrix of shape batch_size x input_dim.\n",
        "            x_distr: Tensor - the tensor of shape batch_size x num_samples x input_dim, Bernoulli distribution parameters.\n",
        "        Returns:\n",
        "            Tensor - the matrix of shape batch_size x num_samples - log likelihood for each sample.\n",
        "        Example:\n",
        "            >>>\n",
        "        \"\"\"\n",
        "        batch_size = x_distr.shape[0]\n",
        "        input_dim = x_distr.shape[2]\n",
        "\n",
        "        bernoulli_log_likelihood = torch.log(\n",
        "            x_distr) * x_true.view([batch_size, 1, input_dim])\n",
        "        bernoulli_log_likelihood += torch.log(1 - x_distr) * (\n",
        "            1 - x_true).view([batch_size, 1, input_dim])\n",
        "\n",
        "        return torch.sum(bernoulli_log_likelihood, dim=2)\n",
        "\n",
        "    @staticmethod\n",
        "    def log_mean_exp(data):\n",
        "        \"\"\"\n",
        "        Args:\n",
        "            data: Tensor - the tensor of shape n_1 x n_2 x ... x n_K.\n",
        "        Returns:\n",
        "            Tensor - the tensor of shape n_1 x n_2 x ,,, x n_{K - 1}.\n",
        "        Example:\n",
        "            >>>\n",
        "        \"\"\"\n",
        "\n",
        "        return torch.logsumexp(data, dim=-1) - \\\n",
        "            torch.log(torch.Tensor([data.shape[-1]]).to(data.device))\n",
        "\n",
        "    @staticmethod\n",
        "    def divergence_KL_normal(q_distr, p_distr):\n",
        "        \"\"\"\n",
        "        Calculate KL-divergence KL(q||p) between n-pairs of normal distribution.\n",
        "        Args:\n",
        "            q_distr=(mu, sigma): tuple(Tensor, Tensor) - the normal distribution parameters.\n",
        "                mu: Tensor - the matrix of shape batch_size x latent_dim.\n",
        "                sigma: Tensor - the matrix of shape batch_size x latent_dim.\n",
        "            p_distr=(mu, sigma): tuple(Tensor, Tensor) - the normal distribution parameters.\n",
        "                mu: Tensor - the matrix of shape batch_size x latent_dim.\n",
        "                sigma: Tensor - the matrix of shape batch_size x latent_dim.\n",
        "        Returns:\n",
        "            Tensor - the vector of shape n, each value of which is a KL-divergence between pair of normal distribution.\n",
        "        Example:\n",
        "            >>>\n",
        "        \"\"\"\n",
        "        q_mu, q_sigma = q_distr\n",
        "        p_mu, p_sigma = p_distr\n",
        "\n",
        "        D_KL = torch.sum((q_sigma / p_sigma)**2, dim=1)\n",
        "        D_KL -= p_mu.shape[1]\n",
        "        D_KL += 2 * torch.sum(torch.log(p_sigma), dim=1) - \\\n",
        "            2 * torch.sum(torch.log(q_sigma), dim=1)\n",
        "        D_KL += torch.sum((p_mu - q_mu) * (p_mu - q_mu) / (p_sigma**2), dim=1)\n",
        "        return 0.5 * D_KL\n",
        "\n",
        "    def forward(self, x):\n",
        "      \"\"\"\n",
        "        Generate decoded sample after encoding.\n",
        "        Args:\n",
        "            x: Tensor - the matrix of shape batch_size x input_dim.\n",
        "        Returns:\n",
        "            Tensor - the matrix of shape batch_size x input_dim.\n",
        "        Example:\n",
        "            >>>\n",
        "        \"\"\"\n",
        "      return self.q_x(self.sample_z(self.q_z(x))).view_as(x)\n"
      ]
    },
    {
      "attachments": {},
      "cell_type": "markdown",
      "metadata": {
        "id": "9WYJ_mwgmDeG"
      },
      "source": [
        "#### Скрипты для обучение VAE"
      ]
    },
    {
      "cell_type": "code",
      "execution_count": 29,
      "metadata": {
        "id": "y5nqzt8fmN4M"
      },
      "outputs": [],
      "source": [
        "def train_on_batch(model, x_batch, y_batch, optimizer, loss_function):\n",
        "    model.train()\n",
        "    optimizer.zero_grad()\n",
        "    \n",
        "    loss = model.loss(x_batch.to(model.device), y_batch.to(model.device))\n",
        "    loss.backward()\n",
        "\n",
        "    optimizer.step()\n",
        "    return loss.cpu().item()"
      ]
    },
    {
      "attachments": {},
      "cell_type": "markdown",
      "metadata": {
        "id": "219UdCzZoE-4"
      },
      "source": [
        "#### Данные"
      ]
    },
    {
      "cell_type": "code",
      "execution_count": 30,
      "metadata": {
        "id": "X-5KlkdwoQwM"
      },
      "outputs": [],
      "source": [
        "preprocess = transforms.Compose([transforms.ToTensor(), \n",
        "                                 torch.FloatTensor, \n",
        "                                 lambda x: x.view(784)])"
      ]
    },
    {
      "cell_type": "code",
      "execution_count": 31,
      "metadata": {
        "id": "Iq4ZRNcroQwN"
      },
      "outputs": [],
      "source": [
        "MNIST_train = datasets.MNIST('./mnist', train=True, download=True, \n",
        "                             transform=preprocess)\n",
        "\n",
        "MNIST_test = datasets.MNIST('./mnist', train=False, download=True,\n",
        "                            transform=preprocess)"
      ]
    },
    {
      "attachments": {},
      "cell_type": "markdown",
      "metadata": {
        "id": "S3rpGy8Ul0tG"
      },
      "source": [
        "#### Инициализация модели"
      ]
    },
    {
      "cell_type": "code",
      "execution_count": 32,
      "metadata": {
        "id": "m8mIbkWTkltO"
      },
      "outputs": [],
      "source": [
        "optimizer = torch.optim.Adam\n",
        "loss_function = torch.nn.MSELoss()"
      ]
    },
    {
      "attachments": {},
      "cell_type": "markdown",
      "metadata": {
        "id": "1Pgw8VSP7LRU"
      },
      "source": [
        "#### Перебор разного размера латентного пространства"
      ]
    },
    {
      "cell_type": "code",
      "execution_count": 33,
      "metadata": {
        "id": "HNQrh5nNtOtq"
      },
      "outputs": [
        {
          "data": {
            "application/vnd.jupyter.widget-view+json": {
              "model_id": "c6a8d97df4964ed6810716017766c1e4",
              "version_major": 2,
              "version_minor": 0
            },
            "text/plain": [
              "epoch:   0%|          | 0/10 [00:00<?, ?it/s]"
            ]
          },
          "metadata": {},
          "output_type": "display_data"
        },
        {
          "data": {
            "application/vnd.jupyter.widget-view+json": {
              "model_id": "c955999d0c944d3a984655ca5b592796",
              "version_major": 2,
              "version_minor": 0
            },
            "text/plain": [
              "  0%|          | 0/938 [00:00<?, ?it/s]"
            ]
          },
          "metadata": {},
          "output_type": "display_data"
        },
        {
          "data": {
            "application/vnd.jupyter.widget-view+json": {
              "model_id": "5eded951bb9343c48c3eb2d5c14c5333",
              "version_major": 2,
              "version_minor": 0
            },
            "text/plain": [
              "  0%|          | 0/938 [00:00<?, ?it/s]"
            ]
          },
          "metadata": {},
          "output_type": "display_data"
        },
        {
          "data": {
            "application/vnd.jupyter.widget-view+json": {
              "model_id": "f5a8a28c64154ec7a42696985e0c07a0",
              "version_major": 2,
              "version_minor": 0
            },
            "text/plain": [
              "  0%|          | 0/938 [00:00<?, ?it/s]"
            ]
          },
          "metadata": {},
          "output_type": "display_data"
        },
        {
          "data": {
            "application/vnd.jupyter.widget-view+json": {
              "model_id": "7b73b8a194d44cdf98b951621001f9af",
              "version_major": 2,
              "version_minor": 0
            },
            "text/plain": [
              "  0%|          | 0/938 [00:00<?, ?it/s]"
            ]
          },
          "metadata": {},
          "output_type": "display_data"
        },
        {
          "data": {
            "application/vnd.jupyter.widget-view+json": {
              "model_id": "ee3a95d0899c45ff8d65a5330e6c0afe",
              "version_major": 2,
              "version_minor": 0
            },
            "text/plain": [
              "  0%|          | 0/938 [00:00<?, ?it/s]"
            ]
          },
          "metadata": {},
          "output_type": "display_data"
        },
        {
          "data": {
            "application/vnd.jupyter.widget-view+json": {
              "model_id": "45c8e8e3353d47e8af0f0ef6467a4608",
              "version_major": 2,
              "version_minor": 0
            },
            "text/plain": [
              "  0%|          | 0/938 [00:00<?, ?it/s]"
            ]
          },
          "metadata": {},
          "output_type": "display_data"
        },
        {
          "data": {
            "application/vnd.jupyter.widget-view+json": {
              "model_id": "de0107c77f9648a297bb1dcbd504cc74",
              "version_major": 2,
              "version_minor": 0
            },
            "text/plain": [
              "  0%|          | 0/938 [00:00<?, ?it/s]"
            ]
          },
          "metadata": {},
          "output_type": "display_data"
        },
        {
          "data": {
            "application/vnd.jupyter.widget-view+json": {
              "model_id": "d2ecc89d52e743a7a83078e2cd4b9864",
              "version_major": 2,
              "version_minor": 0
            },
            "text/plain": [
              "  0%|          | 0/938 [00:00<?, ?it/s]"
            ]
          },
          "metadata": {},
          "output_type": "display_data"
        },
        {
          "data": {
            "application/vnd.jupyter.widget-view+json": {
              "model_id": "ddfe69c313ac460a8a5f28e471415c61",
              "version_major": 2,
              "version_minor": 0
            },
            "text/plain": [
              "  0%|          | 0/938 [00:00<?, ?it/s]"
            ]
          },
          "metadata": {},
          "output_type": "display_data"
        },
        {
          "data": {
            "application/vnd.jupyter.widget-view+json": {
              "model_id": "44786bd1e7ee4d1987da635114ca2061",
              "version_major": 2,
              "version_minor": 0
            },
            "text/plain": [
              "  0%|          | 0/938 [00:00<?, ?it/s]"
            ]
          },
          "metadata": {},
          "output_type": "display_data"
        },
        {
          "data": {
            "application/vnd.jupyter.widget-view+json": {
              "model_id": "4bae8918291845d39a354644c9be92e9",
              "version_major": 2,
              "version_minor": 0
            },
            "text/plain": [
              "epoch:   0%|          | 0/10 [00:00<?, ?it/s]"
            ]
          },
          "metadata": {},
          "output_type": "display_data"
        },
        {
          "data": {
            "application/vnd.jupyter.widget-view+json": {
              "model_id": "097464cbeca54f2b82f20f3949ea59aa",
              "version_major": 2,
              "version_minor": 0
            },
            "text/plain": [
              "  0%|          | 0/938 [00:00<?, ?it/s]"
            ]
          },
          "metadata": {},
          "output_type": "display_data"
        },
        {
          "data": {
            "application/vnd.jupyter.widget-view+json": {
              "model_id": "12bd0c1c21ac4de2914a89de1d00f53b",
              "version_major": 2,
              "version_minor": 0
            },
            "text/plain": [
              "  0%|          | 0/938 [00:00<?, ?it/s]"
            ]
          },
          "metadata": {},
          "output_type": "display_data"
        },
        {
          "data": {
            "application/vnd.jupyter.widget-view+json": {
              "model_id": "3241063660cd46608d25cd5d184fdc5b",
              "version_major": 2,
              "version_minor": 0
            },
            "text/plain": [
              "  0%|          | 0/938 [00:00<?, ?it/s]"
            ]
          },
          "metadata": {},
          "output_type": "display_data"
        },
        {
          "data": {
            "application/vnd.jupyter.widget-view+json": {
              "model_id": "b330d7cd057744409240d7892ecaed28",
              "version_major": 2,
              "version_minor": 0
            },
            "text/plain": [
              "  0%|          | 0/938 [00:00<?, ?it/s]"
            ]
          },
          "metadata": {},
          "output_type": "display_data"
        },
        {
          "data": {
            "application/vnd.jupyter.widget-view+json": {
              "model_id": "a315292dac9244c5b519167ccebc0be4",
              "version_major": 2,
              "version_minor": 0
            },
            "text/plain": [
              "  0%|          | 0/938 [00:00<?, ?it/s]"
            ]
          },
          "metadata": {},
          "output_type": "display_data"
        },
        {
          "data": {
            "application/vnd.jupyter.widget-view+json": {
              "model_id": "76d4ce61d0854ca3a7d11ea3d669fd7a",
              "version_major": 2,
              "version_minor": 0
            },
            "text/plain": [
              "  0%|          | 0/938 [00:00<?, ?it/s]"
            ]
          },
          "metadata": {},
          "output_type": "display_data"
        },
        {
          "data": {
            "application/vnd.jupyter.widget-view+json": {
              "model_id": "122e6b815fbc4b1a9ddd796902ac4ac2",
              "version_major": 2,
              "version_minor": 0
            },
            "text/plain": [
              "  0%|          | 0/938 [00:00<?, ?it/s]"
            ]
          },
          "metadata": {},
          "output_type": "display_data"
        },
        {
          "data": {
            "application/vnd.jupyter.widget-view+json": {
              "model_id": "24e00e6baa8946bba6d4599548f5ab8b",
              "version_major": 2,
              "version_minor": 0
            },
            "text/plain": [
              "  0%|          | 0/938 [00:00<?, ?it/s]"
            ]
          },
          "metadata": {},
          "output_type": "display_data"
        },
        {
          "data": {
            "application/vnd.jupyter.widget-view+json": {
              "model_id": "9a7ce397f5f04a2eb7b3ad7eb409d904",
              "version_major": 2,
              "version_minor": 0
            },
            "text/plain": [
              "  0%|          | 0/938 [00:00<?, ?it/s]"
            ]
          },
          "metadata": {},
          "output_type": "display_data"
        },
        {
          "data": {
            "application/vnd.jupyter.widget-view+json": {
              "model_id": "a88630b8f34448229bcfa0451005cb1f",
              "version_major": 2,
              "version_minor": 0
            },
            "text/plain": [
              "  0%|          | 0/938 [00:00<?, ?it/s]"
            ]
          },
          "metadata": {},
          "output_type": "display_data"
        },
        {
          "data": {
            "application/vnd.jupyter.widget-view+json": {
              "model_id": "7a48b93a62e4494788e3223e9462ad10",
              "version_major": 2,
              "version_minor": 0
            },
            "text/plain": [
              "epoch:   0%|          | 0/10 [00:00<?, ?it/s]"
            ]
          },
          "metadata": {},
          "output_type": "display_data"
        },
        {
          "data": {
            "application/vnd.jupyter.widget-view+json": {
              "model_id": "c83347433d6042b8b244b4f0bdd247b3",
              "version_major": 2,
              "version_minor": 0
            },
            "text/plain": [
              "  0%|          | 0/938 [00:00<?, ?it/s]"
            ]
          },
          "metadata": {},
          "output_type": "display_data"
        },
        {
          "data": {
            "application/vnd.jupyter.widget-view+json": {
              "model_id": "986d2170006743bba9842b91bf412818",
              "version_major": 2,
              "version_minor": 0
            },
            "text/plain": [
              "  0%|          | 0/938 [00:00<?, ?it/s]"
            ]
          },
          "metadata": {},
          "output_type": "display_data"
        },
        {
          "data": {
            "application/vnd.jupyter.widget-view+json": {
              "model_id": "311c79b16cd94f7aa3c6c15f9f2a4638",
              "version_major": 2,
              "version_minor": 0
            },
            "text/plain": [
              "  0%|          | 0/938 [00:00<?, ?it/s]"
            ]
          },
          "metadata": {},
          "output_type": "display_data"
        },
        {
          "data": {
            "application/vnd.jupyter.widget-view+json": {
              "model_id": "f971ac5dbc8a414ca849d5c3cf86161e",
              "version_major": 2,
              "version_minor": 0
            },
            "text/plain": [
              "  0%|          | 0/938 [00:00<?, ?it/s]"
            ]
          },
          "metadata": {},
          "output_type": "display_data"
        },
        {
          "data": {
            "application/vnd.jupyter.widget-view+json": {
              "model_id": "6216fce1aea4414e85fe9b74de65423e",
              "version_major": 2,
              "version_minor": 0
            },
            "text/plain": [
              "  0%|          | 0/938 [00:00<?, ?it/s]"
            ]
          },
          "metadata": {},
          "output_type": "display_data"
        },
        {
          "data": {
            "application/vnd.jupyter.widget-view+json": {
              "model_id": "60ab54dc9c8940058221f2de371f412b",
              "version_major": 2,
              "version_minor": 0
            },
            "text/plain": [
              "  0%|          | 0/938 [00:00<?, ?it/s]"
            ]
          },
          "metadata": {},
          "output_type": "display_data"
        },
        {
          "data": {
            "application/vnd.jupyter.widget-view+json": {
              "model_id": "7e2f1699a23a4ceda04a7d56af0dea3a",
              "version_major": 2,
              "version_minor": 0
            },
            "text/plain": [
              "  0%|          | 0/938 [00:00<?, ?it/s]"
            ]
          },
          "metadata": {},
          "output_type": "display_data"
        },
        {
          "data": {
            "application/vnd.jupyter.widget-view+json": {
              "model_id": "90b2b19f517d48879855e03e939bbd8f",
              "version_major": 2,
              "version_minor": 0
            },
            "text/plain": [
              "  0%|          | 0/938 [00:00<?, ?it/s]"
            ]
          },
          "metadata": {},
          "output_type": "display_data"
        },
        {
          "data": {
            "application/vnd.jupyter.widget-view+json": {
              "model_id": "292f36d383174135aeae8985479eaba3",
              "version_major": 2,
              "version_minor": 0
            },
            "text/plain": [
              "  0%|          | 0/938 [00:00<?, ?it/s]"
            ]
          },
          "metadata": {},
          "output_type": "display_data"
        },
        {
          "data": {
            "application/vnd.jupyter.widget-view+json": {
              "model_id": "edd591ce16014dc1a46880b8e2775dc5",
              "version_major": 2,
              "version_minor": 0
            },
            "text/plain": [
              "  0%|          | 0/938 [00:00<?, ?it/s]"
            ]
          },
          "metadata": {},
          "output_type": "display_data"
        },
        {
          "data": {
            "application/vnd.jupyter.widget-view+json": {
              "model_id": "2a39ad9a59f740c6ade63c4320cd33c0",
              "version_major": 2,
              "version_minor": 0
            },
            "text/plain": [
              "epoch:   0%|          | 0/10 [00:00<?, ?it/s]"
            ]
          },
          "metadata": {},
          "output_type": "display_data"
        },
        {
          "data": {
            "application/vnd.jupyter.widget-view+json": {
              "model_id": "70682178ee7f4961b591b04c28007b50",
              "version_major": 2,
              "version_minor": 0
            },
            "text/plain": [
              "  0%|          | 0/938 [00:00<?, ?it/s]"
            ]
          },
          "metadata": {},
          "output_type": "display_data"
        },
        {
          "data": {
            "application/vnd.jupyter.widget-view+json": {
              "model_id": "50223468b2074b37855acfc168c220b3",
              "version_major": 2,
              "version_minor": 0
            },
            "text/plain": [
              "  0%|          | 0/938 [00:00<?, ?it/s]"
            ]
          },
          "metadata": {},
          "output_type": "display_data"
        },
        {
          "data": {
            "application/vnd.jupyter.widget-view+json": {
              "model_id": "ca44f08bb5fa44419e3b21187c1a153b",
              "version_major": 2,
              "version_minor": 0
            },
            "text/plain": [
              "  0%|          | 0/938 [00:00<?, ?it/s]"
            ]
          },
          "metadata": {},
          "output_type": "display_data"
        },
        {
          "data": {
            "application/vnd.jupyter.widget-view+json": {
              "model_id": "fa48aabf8439421ead16b1ea326a1a28",
              "version_major": 2,
              "version_minor": 0
            },
            "text/plain": [
              "  0%|          | 0/938 [00:00<?, ?it/s]"
            ]
          },
          "metadata": {},
          "output_type": "display_data"
        },
        {
          "data": {
            "application/vnd.jupyter.widget-view+json": {
              "model_id": "1d99e1ed79f742a388f60245ce28bbaf",
              "version_major": 2,
              "version_minor": 0
            },
            "text/plain": [
              "  0%|          | 0/938 [00:00<?, ?it/s]"
            ]
          },
          "metadata": {},
          "output_type": "display_data"
        },
        {
          "data": {
            "application/vnd.jupyter.widget-view+json": {
              "model_id": "f064e9bdd98a400aa7680d54ef4d84fa",
              "version_major": 2,
              "version_minor": 0
            },
            "text/plain": [
              "  0%|          | 0/938 [00:00<?, ?it/s]"
            ]
          },
          "metadata": {},
          "output_type": "display_data"
        },
        {
          "data": {
            "application/vnd.jupyter.widget-view+json": {
              "model_id": "8b11617245f24a9f89e2c04643a974fc",
              "version_major": 2,
              "version_minor": 0
            },
            "text/plain": [
              "  0%|          | 0/938 [00:00<?, ?it/s]"
            ]
          },
          "metadata": {},
          "output_type": "display_data"
        },
        {
          "data": {
            "application/vnd.jupyter.widget-view+json": {
              "model_id": "fda8a44dd99d465db8654ff970ab2f7b",
              "version_major": 2,
              "version_minor": 0
            },
            "text/plain": [
              "  0%|          | 0/938 [00:00<?, ?it/s]"
            ]
          },
          "metadata": {},
          "output_type": "display_data"
        },
        {
          "data": {
            "application/vnd.jupyter.widget-view+json": {
              "model_id": "dee2546b500d4754a684cbd43a2d737d",
              "version_major": 2,
              "version_minor": 0
            },
            "text/plain": [
              "  0%|          | 0/938 [00:00<?, ?it/s]"
            ]
          },
          "metadata": {},
          "output_type": "display_data"
        },
        {
          "data": {
            "application/vnd.jupyter.widget-view+json": {
              "model_id": "6ed57017d9ea444a8ac3af8a3bd6badc",
              "version_major": 2,
              "version_minor": 0
            },
            "text/plain": [
              "  0%|          | 0/938 [00:00<?, ?it/s]"
            ]
          },
          "metadata": {},
          "output_type": "display_data"
        },
        {
          "data": {
            "application/vnd.jupyter.widget-view+json": {
              "model_id": "5f0602fa0c4c451bb0295cbf2cbec693",
              "version_major": 2,
              "version_minor": 0
            },
            "text/plain": [
              "epoch:   0%|          | 0/10 [00:00<?, ?it/s]"
            ]
          },
          "metadata": {},
          "output_type": "display_data"
        },
        {
          "data": {
            "application/vnd.jupyter.widget-view+json": {
              "model_id": "20f2972b4d4a4842b142bba6c90dffe4",
              "version_major": 2,
              "version_minor": 0
            },
            "text/plain": [
              "  0%|          | 0/938 [00:00<?, ?it/s]"
            ]
          },
          "metadata": {},
          "output_type": "display_data"
        },
        {
          "data": {
            "application/vnd.jupyter.widget-view+json": {
              "model_id": "a4fe43998c354fe6bf23cc0ee75f1fe5",
              "version_major": 2,
              "version_minor": 0
            },
            "text/plain": [
              "  0%|          | 0/938 [00:00<?, ?it/s]"
            ]
          },
          "metadata": {},
          "output_type": "display_data"
        },
        {
          "data": {
            "application/vnd.jupyter.widget-view+json": {
              "model_id": "74c2c4d66c02465990ba3c1b0c2e1fe1",
              "version_major": 2,
              "version_minor": 0
            },
            "text/plain": [
              "  0%|          | 0/938 [00:00<?, ?it/s]"
            ]
          },
          "metadata": {},
          "output_type": "display_data"
        },
        {
          "data": {
            "application/vnd.jupyter.widget-view+json": {
              "model_id": "3ec391631fff45adb9c27dd0719a4aa4",
              "version_major": 2,
              "version_minor": 0
            },
            "text/plain": [
              "  0%|          | 0/938 [00:00<?, ?it/s]"
            ]
          },
          "metadata": {},
          "output_type": "display_data"
        },
        {
          "data": {
            "application/vnd.jupyter.widget-view+json": {
              "model_id": "8439b726a94a4f8792c58e528124a4d9",
              "version_major": 2,
              "version_minor": 0
            },
            "text/plain": [
              "  0%|          | 0/938 [00:00<?, ?it/s]"
            ]
          },
          "metadata": {},
          "output_type": "display_data"
        },
        {
          "data": {
            "application/vnd.jupyter.widget-view+json": {
              "model_id": "5741d2ad3de847ac942ba0b4ff518aa9",
              "version_major": 2,
              "version_minor": 0
            },
            "text/plain": [
              "  0%|          | 0/938 [00:00<?, ?it/s]"
            ]
          },
          "metadata": {},
          "output_type": "display_data"
        },
        {
          "data": {
            "application/vnd.jupyter.widget-view+json": {
              "model_id": "3791ecfdc92346749083f0d1539af11d",
              "version_major": 2,
              "version_minor": 0
            },
            "text/plain": [
              "  0%|          | 0/938 [00:00<?, ?it/s]"
            ]
          },
          "metadata": {},
          "output_type": "display_data"
        },
        {
          "data": {
            "application/vnd.jupyter.widget-view+json": {
              "model_id": "930e49b593db4498855d6e74f6ae1abc",
              "version_major": 2,
              "version_minor": 0
            },
            "text/plain": [
              "  0%|          | 0/938 [00:00<?, ?it/s]"
            ]
          },
          "metadata": {},
          "output_type": "display_data"
        },
        {
          "data": {
            "application/vnd.jupyter.widget-view+json": {
              "model_id": "9a92fbabc9fe4de0879d0cfee22c827a",
              "version_major": 2,
              "version_minor": 0
            },
            "text/plain": [
              "  0%|          | 0/938 [00:00<?, ?it/s]"
            ]
          },
          "metadata": {},
          "output_type": "display_data"
        },
        {
          "data": {
            "application/vnd.jupyter.widget-view+json": {
              "model_id": "8e563cfd57144095bcdf9e2fd6b2e050",
              "version_major": 2,
              "version_minor": 0
            },
            "text/plain": [
              "  0%|          | 0/938 [00:00<?, ?it/s]"
            ]
          },
          "metadata": {},
          "output_type": "display_data"
        },
        {
          "data": {
            "application/vnd.jupyter.widget-view+json": {
              "model_id": "c00867ce756548f1849cdc103898e2d9",
              "version_major": 2,
              "version_minor": 0
            },
            "text/plain": [
              "epoch:   0%|          | 0/10 [00:00<?, ?it/s]"
            ]
          },
          "metadata": {},
          "output_type": "display_data"
        },
        {
          "data": {
            "application/vnd.jupyter.widget-view+json": {
              "model_id": "949d6d6e78fb4928ae64bfd124554a63",
              "version_major": 2,
              "version_minor": 0
            },
            "text/plain": [
              "  0%|          | 0/938 [00:00<?, ?it/s]"
            ]
          },
          "metadata": {},
          "output_type": "display_data"
        },
        {
          "data": {
            "application/vnd.jupyter.widget-view+json": {
              "model_id": "95f2d8c1af824c22aba797b12bd8fca2",
              "version_major": 2,
              "version_minor": 0
            },
            "text/plain": [
              "  0%|          | 0/938 [00:00<?, ?it/s]"
            ]
          },
          "metadata": {},
          "output_type": "display_data"
        },
        {
          "data": {
            "application/vnd.jupyter.widget-view+json": {
              "model_id": "3f71540287114f6b997ca53c6ef311fa",
              "version_major": 2,
              "version_minor": 0
            },
            "text/plain": [
              "  0%|          | 0/938 [00:00<?, ?it/s]"
            ]
          },
          "metadata": {},
          "output_type": "display_data"
        },
        {
          "data": {
            "application/vnd.jupyter.widget-view+json": {
              "model_id": "b341e7a572b74cffa2a5d50d5ac61f0c",
              "version_major": 2,
              "version_minor": 0
            },
            "text/plain": [
              "  0%|          | 0/938 [00:00<?, ?it/s]"
            ]
          },
          "metadata": {},
          "output_type": "display_data"
        },
        {
          "data": {
            "application/vnd.jupyter.widget-view+json": {
              "model_id": "391d9a6e417c4d70ad08f081c39a337e",
              "version_major": 2,
              "version_minor": 0
            },
            "text/plain": [
              "  0%|          | 0/938 [00:00<?, ?it/s]"
            ]
          },
          "metadata": {},
          "output_type": "display_data"
        },
        {
          "data": {
            "application/vnd.jupyter.widget-view+json": {
              "model_id": "91589939b35e4e31b763292467ecbb13",
              "version_major": 2,
              "version_minor": 0
            },
            "text/plain": [
              "  0%|          | 0/938 [00:00<?, ?it/s]"
            ]
          },
          "metadata": {},
          "output_type": "display_data"
        },
        {
          "data": {
            "application/vnd.jupyter.widget-view+json": {
              "model_id": "62331dabbba341a1bf62260bbbfe11d9",
              "version_major": 2,
              "version_minor": 0
            },
            "text/plain": [
              "  0%|          | 0/938 [00:00<?, ?it/s]"
            ]
          },
          "metadata": {},
          "output_type": "display_data"
        },
        {
          "data": {
            "application/vnd.jupyter.widget-view+json": {
              "model_id": "af9ad8c68f174425bfe658a0a4f7845b",
              "version_major": 2,
              "version_minor": 0
            },
            "text/plain": [
              "  0%|          | 0/938 [00:00<?, ?it/s]"
            ]
          },
          "metadata": {},
          "output_type": "display_data"
        },
        {
          "data": {
            "application/vnd.jupyter.widget-view+json": {
              "model_id": "2bcce86859054cdeb5c20d2755b06a40",
              "version_major": 2,
              "version_minor": 0
            },
            "text/plain": [
              "  0%|          | 0/938 [00:00<?, ?it/s]"
            ]
          },
          "metadata": {},
          "output_type": "display_data"
        },
        {
          "data": {
            "application/vnd.jupyter.widget-view+json": {
              "model_id": "f82d122d2f5b4381991f0a0f449e3233",
              "version_major": 2,
              "version_minor": 0
            },
            "text/plain": [
              "  0%|          | 0/938 [00:00<?, ?it/s]"
            ]
          },
          "metadata": {},
          "output_type": "display_data"
        }
      ],
      "source": [
        "for d in [64, 32, 16, 8, 4, 2]:\n",
        "    autoencoder = VAE(d, 28*28)\n",
        "    autoencoder.to(device)\n",
        "\n",
        "    writer = SummaryWriter(log_dir = 'autoencoder-vae/{}'.format(d))\n",
        "    call = callback(writer, MNIST_test, loss_function, delimeter = 100)\n",
        "\n",
        "    trainer(count_of_epoch=10, \n",
        "            batch_size=64, \n",
        "            dataset=MNIST_train,\n",
        "            model=autoencoder, \n",
        "            loss_function=None,\n",
        "            optimizer = optimizer,\n",
        "            lr = 0.001,\n",
        "            callback = call)"
      ]
    },
    {
      "attachments": {},
      "cell_type": "markdown",
      "metadata": {
        "id": "RWJ-dhwSuKNI"
      },
      "source": [
        "#### Отрисовка изменения (возмущаем скрытые вектора)"
      ]
    },
    {
      "cell_type": "code",
      "execution_count": 34,
      "metadata": {
        "id": "gtG7ELKfs6f0"
      },
      "outputs": [],
      "source": [
        "def draw_samples_grid_vae(model,\n",
        "                          num_row=15,\n",
        "                          num_colum=15,\n",
        "                          images_size=(28, 28)):\n",
        "    \"\"\"\n",
        "    Illustrate how change digits x where change point in latent space z.\n",
        "    Args:\n",
        "        model: nn.Module - model VAE or IWAE.\n",
        "        num_row: int - the number of row.\n",
        "        num_colum: int - the number of column.\n",
        "        images_size = (x_size, y_size): tuple(int, int) - a size of input image.\n",
        "    Returns:\n",
        "        figure: float - the picture\n",
        "    Example:\n",
        "        >>>\n",
        "    \"\"\"\n",
        "    grid_x = norm.ppf(np.linspace(0.05, 0.95, num_colum))\n",
        "    grid_y = norm.ppf(np.linspace(0.05, 0.95, num_row))\n",
        "\n",
        "    figure = np.zeros((images_size[0] * num_colum, images_size[1] * num_row))\n",
        "    for i, y_i in enumerate(grid_x):\n",
        "        for j, x_i in enumerate(grid_y):\n",
        "            z_sample = np.array([[x_i, y_i]])\n",
        "\n",
        "            x_sample = model.q_x(torch.from_numpy(z_sample).float()).view(\n",
        "                images_size).cpu().data.numpy()\n",
        "\n",
        "            image = x_sample\n",
        "            figure[i * images_size[0]: (i + 1) * images_size[0],\n",
        "                   j * images_size[1]: (j + 1) * images_size[1]] = image\n",
        "\n",
        "    return figure"
      ]
    },
    {
      "cell_type": "code",
      "execution_count": 35,
      "metadata": {
        "id": "OizKj4aDs5Qm"
      },
      "outputs": [
        {
          "data": {
            "image/png": "[encoded data removed]",
            "text/plain": [
              "<Figure size 1000x1000 with 1 Axes>"
            ]
          },
          "metadata": {},
          "output_type": "display_data"
        }
      ],
      "source": [
        "figure = draw_samples_grid_vae(autoencoder)\n",
        "\n",
        "plt.figure(figsize=(10, 10))\n",
        "plt.imshow(figure, cmap='Greys_r', interpolation='lanczos')\n",
        "plt.axis('off')\n",
        "plt.show()"
      ]
    }
  ],
  "metadata": {
    "accelerator": "GPU",
    "celltoolbar": "Slideshow",
    "colab": {
      "name": "main.ipynb",
      "provenance": [],
      "toc_visible": true
    },
    "kernelspec": {
      "display_name": "Python 3",
      "language": "python",
      "name": "python3"
    },
    "language_info": {
      "codemirror_mode": {
        "name": "ipython",
        "version": 3
      },
      "file_extension": ".py",
      "mimetype": "text/x-python",
      "name": "python",
      "nbconvert_exporter": "python",
      "pygments_lexer": "ipython3",
      "version": "3.11.3"
    }
  },
  "nbformat": 4,
  "nbformat_minor": 0
}
